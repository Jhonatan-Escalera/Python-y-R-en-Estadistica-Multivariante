{
 "cells": [
  {
   "cell_type": "markdown",
   "metadata": {},
   "source": [
    "<img src=\"logo.png\">"
   ]
  },
  {
   "cell_type": "markdown",
   "metadata": {},
   "source": [
    "# Partición de datos: $K$-medias\n",
    "\n",
    "Supongamos que tenemos una muestra de $n$ elementos con $p$ variables. El objetivo es dividir esta muestra en un número de grupos prefijado $K$.\n",
    "\n",
    "El algoritmo de $K$-medias requiere de las siguientes cuatro etapas:\n",
    "\n",
    "1. Seleccionar $K$ puntos como centros de los grupos iniciales. Esto puede hacerse:\n",
    "    * Asignando aleatoriamente los objetos a los grupos y tomando los centros de los grupos formados\n",
    "    \n",
    "    * Tomando como centros los $K$ puntos más alejados entre sí\n",
    "        \n",
    "    * Construyendo los grupos con información a priori, o bien seleccionando los centros a priori.\n",
    "    \n",
    "    \n",
    "2. Calcular las distancias euclídeas de cada elemento al centro de los $K$ grupos, y asignar cada elemento al grupo más próximo. La asignación se realiza secuencialmente y al introducir un nuevo elemento en un grupo se recalculan las coordenadas de la nueva media de grupo.\n",
    "\n",
    "\n",
    "3. Definir un criterio de optimalidad y comprobar si reasignando uno a uno cada elemento de un grupo a otro mejora el criterio.\n",
    "\n",
    "\n",
    "4. Si no es posible mejorar el criterio de optimalidad, terminar el proceso."
   ]
  },
  {
   "cell_type": "markdown",
   "metadata": {},
   "source": [
    "## Criterio de homogeneidad\n",
    "\n",
    "El criterio de homogeneidad que se utiliza en el algoritmo de $K$-medias es la suma de cuadrados dentro de los grupos (SCDG) para todas las variables, que es equivalente a la suma ponderada de las varianzas de las variables en los grupos:\n",
    "\n",
    "$$SCDG=\\sum_{k=1}^K\\sum_{j=1}^p\\sum_{i=1}^{n_k}(x_{ijk}-\\overline{x_{jk}})^2$$\n",
    "\n",
    "Si llamamos $W$ a $\\sum_{k=1}^K\\sum_{i=1}^{n_k}(x_{ik}-\\overline{x_k})(x_{ik}-\\overline{x_k})^T$, se tiene que $\\min(tr(W))=\\min(SCDG)$.\n",
    "\n",
    "La varianza de cada variable en cada grupo es claramente una medida de la heterogeneidad del grupo y al minimizar las varianzas de todas las variables en los grupos obtendremos grupos más homogéneos.\n",
    "\n",
    "Cuando las variables vayan en unidades distintas conviene estandarizarlas, para evitar que el resultado del algoritmo dependa de cambios irrelevantes en la escala de medida. Cuando vayan en las mismas unidades suele ser mejor no estandarizar, ya que es posible que una varianza mucho mayor que el resto sea precisamente debida a que existen dos grupos de observaciones en esa variable, y si estandarizamos podemos ocultar la presencia de los grupos.\n",
    "\n",
    "Otra propiedad del criterio de la traza es que minimizar la distancia euclídea produce grupos aproximadamente esféricos. Por otro lado, este criterio está pensado para variables cuantitativas."
   ]
  },
  {
   "cell_type": "markdown",
   "metadata": {},
   "source": [
    "El algoritmo de $K$-medias busca la partición óptima con la restricción de que en cada iteración sólo se permite mover un elemento de un grupo a otro. El algoritmo funciona como sigue:\n",
    "\n",
    "1. Partir de una asignación inicial.\n",
    "2. Comprobar si moviendo algún elemento se reduce $tr(W)$.\n",
    "3. Si es posible reducir $tr(W)$, mover el elemento, recalcular las medias de los dos grupos afectados por el cambio y volver al punto 2. Si no es posible reducir $tr(W)$ terminar.\n",
    "\n",
    "En consecuencia, el resultado del algoritmo puede depender de la asignación inicial y del orden de los elementos. Por eso siempre conviene repetir el algoritmo con distintos valores iniciales y permutando los elemento de la muestra.\n",
    "\n"
   ]
  },
  {
   "cell_type": "markdown",
   "metadata": {},
   "source": [
    "## Elección de $K$: el número de grupos\n",
    "\n",
    "Sin embargo, la cantidad óptima de centroides k a utilizar no necesariamente se conoce de antemano, por lo que es necesario aplicar una técnica conocida como el Método del Codo o Elbow Method a fin de determinar dicho valor. Básicamente, este método busca seleccionar la cantidad ideal de grupos a partir de la optimización de la WCSS (Within Clusters Summed Squares)."
   ]
  },
  {
   "cell_type": "markdown",
   "metadata": {},
   "source": [
    "# Partición de datos: $K$-medoides\n",
    "\n",
    "La partición alrededor de los “medoides” (se suele llamar también Partition around medoids - PAM) es otro algoritmo de partición. Esencialmente, PAM es una modificación del algoritmo $K$-medias. Este algoritmo busca $K$ \"objetos representativos\" en lugar de los centroides entre las observaciones en el conjunto de datos. Entonces, se espera que el método sea más robusto ante anomalías o atípicos."
   ]
  }
 ],
 "metadata": {
  "kernelspec": {
   "display_name": "R",
   "language": "R",
   "name": "ir"
  },
  "language_info": {
   "codemirror_mode": "r",
   "file_extension": ".r",
   "mimetype": "text/x-r-source",
   "name": "R",
   "pygments_lexer": "r",
   "version": "3.6.1"
  }
 },
 "nbformat": 4,
 "nbformat_minor": 4
}
