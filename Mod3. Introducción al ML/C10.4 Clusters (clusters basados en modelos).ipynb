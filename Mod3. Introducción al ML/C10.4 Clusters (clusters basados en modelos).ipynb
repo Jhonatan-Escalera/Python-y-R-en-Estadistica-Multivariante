{
 "cells": [
  {
   "cell_type": "markdown",
   "metadata": {},
   "source": [
    "<img src=\"logo.png\">"
   ]
  },
  {
   "cell_type": "markdown",
   "metadata": {},
   "source": [
    "# Clusters basados en modelos\n",
    "\n",
    "Este análisis es también conocido como clúster basado en mixturas. Para ello, se asume que los datos han sido generados por una mixtura de $K$ distribuciones desconocidas. Para estimar los parámetros desconocidos de la mixtura se utiliza el método de máxima verosimilitud. Más específicamente, un algoritmo que se llama Expectation-Maximization (EM). Una vez que se estiman los parámetros de la mixtura, cada observación es asignada al cluster con mayor probabilidad de generar esa observación."
   ]
  }
 ],
 "metadata": {
  "kernelspec": {
   "display_name": "R",
   "language": "R",
   "name": "ir"
  },
  "language_info": {
   "codemirror_mode": "r",
   "file_extension": ".r",
   "mimetype": "text/x-r-source",
   "name": "R",
   "pygments_lexer": "r",
   "version": "3.6.1"
  }
 },
 "nbformat": 4,
 "nbformat_minor": 4
}
