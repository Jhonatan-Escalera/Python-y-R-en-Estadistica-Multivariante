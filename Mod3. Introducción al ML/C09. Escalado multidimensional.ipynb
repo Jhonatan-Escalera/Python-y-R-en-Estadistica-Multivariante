{
 "cells": [
  {
   "cell_type": "markdown",
   "metadata": {},
   "source": [
    "<img src=\"logo.png\">"
   ]
  },
  {
   "cell_type": "markdown",
   "metadata": {},
   "source": [
    "**Ejemplo.** Supongamos que se realiza una encuesta para determinar qué similitudes encuentran los consumidores entre $n$ productos. \n",
    "\n",
    "Esa información se resume en una matriz cuadrada de similitudes entre los productos. Supongamos que descubrimos que esas similitudes pueden generarse por dos motivos.\n",
    "\n",
    "Entonces, es natural suponer que los consumidores han estimado la similitud entre los dos productos utilizando esos dos motivos."
   ]
  },
  {
   "cell_type": "markdown",
   "metadata": {},
   "source": [
    "# Escalado multidimensional\n",
    "\n",
    "El escalado multidimensional es una generalización del análisis por componentes principales. \n",
    "\n",
    "En lugar de disponer de una matriz de observaciones por variables de tamaño $n\\times p$, como en componentes principales, se dispone de una matriz $D$, de $n\\times n$, de distancias, valores de proximidad, similaridades, o disimilaridades entre los $n$ elementos.\n",
    "\n",
    "Por ejemplo, esa matriz $D$ puede representar:\n",
    "\n",
    "1. Las similitudes o distancias entre $n$ productos fabricados por una empresa.\n",
    "2. Las distancias percibidas entre $n$ candidatos políticos.\n",
    "3. Las diferencias entre $n$ preguntas de un cuestionario.\n",
    "4. Las distancias o similitudes entre $n$ sectores industriales.\n",
    "\n",
    "Estas distancias en $D$ pueden haberse obtenido a partir de ciertas variables. O pueden ser el resultado de una estimación directa, por ejemplo, opiniones de ciertos jueces sobre las similaridades entre los elementos considerados. \n",
    "\n",
    "El objetivo que se pretende es representar esta matriz mediante un conjunto de variables incorrelacionadas $Y_1,Y_2,...,Y_p$ donde $p<n$ de manera que las distancias euclídeas entre las coordenadas de los elementos respecto a estas variables sean iguales (o lo más próximas posibles) a las distancias o disimilaridades de la matriz original.\n",
    "\n",
    "En general no es siempre posible encontrar $p$ variables que reproduzcan exactamente las distancias iniciales. Sin embargo, es frecuente encontrar variables que reproduzcan aproximadamente las distancia iniciales. Por otro lado, si la matriz de distancias se ha generado calculando las distancias euclídeas entre las observaciones definidas por ciertas variables, sí podremos recuperar las componentes principales de estas variables.\n",
    "\n",
    "El escalado multidimensional comparte con componentes principales el objetivo de describir e interpretar los datos. Si existen muchos elementos, la matriz de similaridades será muy grande y la representación por unas pocas variables de los elementos nos permitirá entender su estructura: qué elementos tienen propiedades similares, si aparecen grupos entre los elementos, si hay elementos atípicos, etc. Además, si podemos interpretar las variables aumentará nuestro conocimiento del problema, al entender cómo se han generado los datos.\n",
    "\n",
    "El escalado multidimensional representa un enfoque complementario a componentes principales en el sentido siguiente: componentes principales considera la matriz $p\\times p$ de correlaciones (o covarianzas) entre variables, e investiga su estructura. El escalado multidimensional considera la matriz $n\\times n$ de correlaciones (o covarianzas) entre individuos, e investiga su estructura."
   ]
  },
  {
   "cell_type": "markdown",
   "metadata": {},
   "source": [
    "## Escalado métrico o por coordenadas principales\n",
    "\n",
    "Dada la matriz de datos $\\boldsymbol{X}$, de tamaño $n\\times p$, podemos obtener los datos centrados $\\overline{\\boldsymbol{X}}$. Entonces la matriz $Q=\\overline{\\boldsymbol{X}}\\overline{\\boldsymbol{X}}^T$ puede interpretarse como una matriz de similitud de los $n$ elementos. \n",
    "\n",
    "Ahora bien, si $x_i=(x_{i1},x_{i2},...,x_{ip})$ y $x_j=(x_{j1},x_{j2},...,x_{jp})$ son dos elementos de la tabla, su distancia euclídea al cuadrado viene dada por $d^2_{ij}=(x_{i1}-x_{j1})^2+(x_{i2}-x_{j2})^2+...+(x_{ip}-x_{jp})^2$, que desarrollando y escribiendo en términos de $Q$ nos da $$d_{ij}^2=Q_{ii}+Q_{jj}-2Q_{ij}.$$\n",
    "\n",
    "Por tanto, dada la matriz $\\overline{\\boldsymbol{X}}$ de datos centrados podemos construir la matriz de similitud $Q$ y a partir de ella, la matriz $D$ de distancias al cuadrado entre dos elementos.\n",
    "En forma matricial: $D=diag(Q)1^T+1diag(Q)-2Q$\n",
    "\n",
    "El problema que vamos a abordar es el inverso:\n",
    "\n",
    "<img src=\"escalado_metrico1.png\">\n",
    "\n",
    "No obstante, una vez obtenida $Q^*$, la estimación de $Q$, en el recuadro 2, se puede demostrar que $Q^*=YY^T$ para cierta matriz $Y$. ¿Es esta la matriz que buscamos $\\overline{\\boldsymbol{X}}$?\n",
    "\n",
    "Notemos que si $A$ es una matriz ortogonal, entonces $Q=\\overline{\\boldsymbol{X}}\\overline{\\boldsymbol{X}}^T=(\\overline{\\boldsymbol{X}}A)(A^T\\overline{\\boldsymbol{X}}^T))=(\\overline{\\boldsymbol{X}}A)(\\overline{\\boldsymbol{X}}A)^T$. Por lo tanto, $Q$ no determina una única matriz $\\overline{\\boldsymbol{X}}$.\n",
    "\n",
    "No obstante, esto no es grave: lo anterior nos dice que de $D$ solo es posible obtener una rotación de los datos $\\overline{\\boldsymbol{X}}$ dada por la matriz $Y$ la cual llamaremos matriz de **coordenadas principales**.\n",
    "\n"
   ]
  },
  {
   "cell_type": "markdown",
   "metadata": {},
   "source": [
    "**Ejemplo.** Consideremos $D$ como la matriz de distancias (en km) entre 30 ciudades de México. El problema que queremos resolver es crear un mapa con el que se han generado estas distancias. "
   ]
  },
  {
   "cell_type": "markdown",
   "metadata": {},
   "source": [
    "``data <- read.csv(\"distancias_mex.csv\")\n",
    "muestra = sample(1:1991,100)\n",
    "data = data[muestra,muestra+1]``\n",
    "\n",
    "1) La función ``cmdscale`` escala nuestros datos y no solo eso: hace el cálculo de las coordenadas principales.\n",
    "\n",
    "``mds.cities <- cmdscale(data,eig=TRUE)``\n",
    "\n",
    "2) Hacemos el gráfico de eigenvalores (siempre nos fijaremos solo en los que son positivos).\n",
    "\n",
    "``plot(mds.cities$eig,pch=19,col=\"blue\",xlab=\"Number\",\"ylab\"=\"Eigenvalor\",type=\"o\")\n",
    "abline(a=0,b=0,col=\"red\")``\n",
    "\n",
    "3) Calculamos la medida de precisión (en este caso para 2 eigenvalores)\n",
    "\n",
    "``m <- sum(abs(mds.cities$eig[1:2])) / sum(abs(mds.cities$eig))\n",
    "m``\n",
    "\n",
    "4) Repetimos el cálculo de las coordenadas principales pero solo con 2 eigenvalores\n",
    "\n",
    "\n",
    "``mds.cities <- cmdscale(data,eig=TRUE,k=2)``\n",
    "\n",
    "5) Guardamos las dos coordenadas principales\n",
    "\n",
    "``x1 <- mds.cities$points[,1]\n",
    "x2 <- mds.cities$points[,2]``\n",
    "\n",
    "6) Graficamos\n",
    "\n",
    "``plot(-x1,x2,pch=19,xlim=range(x1)+c(-1000,600),ylim=range(x2)+c(-500,500),col=\"red\")\n",
    "text(-x1,x2,pos=4,labels=colnames(data),col=\"blue\")``\n"
   ]
  },
  {
   "cell_type": "markdown",
   "metadata": {},
   "source": [
    "## Escalado no métrico\n",
    "\n",
    "En los problemas de escalado no métrico se parte de una matriz de diferencias o disimilitudes entre objetos que se ha obtenido generalmente por consultas a jueces, o a partir de procedimientos de ordenación de los elementos.\n",
    "\n",
    "Por ejemplo, el escalado no métrico se ha aplicado para:\n",
    "\n",
    "* Estudiar las semejanzas entre las actitudes, preferencias o percepciones de personas sobre asuntos políticos o sociales.\n",
    "\n",
    "* Evaluar las preferencias respecto a productos y servicios en marketing y en calidad.\n",
    "\n",
    "Los valores de una tabla de similaridades o distancias se obtienen habitualmente por alguno de los procedimientos siguientes:\n",
    "\n",
    "1. **Estimación directa.** Un juez, o un conjunto de jueces, estiman directamente las distancias entre los elementos. Una escala muy utilizada es la escala 0−100, de manera que la distancia o  disimilaridad entre un elemento y sí mismo sea cero y la distancia entre dos elementos distintos refleje la percepción de sus diferencias. Con $n$ elementos esto requiere $\\frac{n(n-1)}{2}$ evaluaciones.\n",
    "\n",
    "\n",
    "2. **Estimación de rangos.** Se selecciona un elemento y se pide al juez, o grupo de jueces, que ordene los $n-1$ restantes por mayor o menor proximidad al seleccionado. A continuación, se selecciona el siguiente y se ordenan los $n-2$ restantes, y así sucesivamente. Existen algoritmos de cálculo que transforman estas ordenaciones en una matriz de distancias.\n",
    "\n",
    "Se supone que la matriz de similaridades está relacionada con una matriz de distancias, pero de una manera compleja. Es decir, se acepta que los jueces utilicen en las valoraciones ciertas variables o dimensiones, pero los datos incluyen elementos de error y variabilidad personal."
   ]
  },
  {
   "cell_type": "markdown",
   "metadata": {},
   "source": [
    "**Ejemplo.** Vamos a considerar un conjunto de datos que muestra la cantidad de veces que 15 congresistas de Nueva Jersey votaron de manera diferente en la Cámara de Representantes sobre 19 proyectos de ley ambientales. Las abstenciones no se registran. La pregunta es si las afiliaciones de los partidos se pueden detectar en los datos."
   ]
  },
  {
   "cell_type": "markdown",
   "metadata": {},
   "source": [
    "El paquete ``HSAUR2`` contiene la tabla que usaremos.\n",
    "\n",
    "``library(MASS)\n",
    "install.packages(\"HSAUR2\")\n",
    "library(HSAUR2)``\n",
    "\n",
    "Llamamos a la tabla:\n",
    "\n",
    "``data(\"voting\",package=\"HSAUR2\")``\n",
    "\n",
    "1) Hacemos el escalado no métrico\n",
    "\n",
    "``voting.mds = isoMDS(voting) \n",
    "voting.mds$points``\n",
    "\n",
    "2) Graficamos\n",
    "\n",
    "``\n",
    "plot(voting.mds$points[,1],voting.mds$points[,2],main=\"Escalamiento no métrico\",pch=19,col=\"blue\",\n",
    "xlab=\"Primera coordenada\",ylab=\"Segunda coordenada\")\n",
    "text(voting.mds$points[,1],voting.mds$points[,2],labels=rownames(voting.mds$points),pos=1,col=\"red\")\n",
    "``"
   ]
  }
 ],
 "metadata": {
  "kernelspec": {
   "display_name": "R",
   "language": "R",
   "name": "ir"
  },
  "language_info": {
   "codemirror_mode": "r",
   "file_extension": ".r",
   "mimetype": "text/x-r-source",
   "name": "R",
   "pygments_lexer": "r",
   "version": "3.6.1"
  }
 },
 "nbformat": 4,
 "nbformat_minor": 4
}
