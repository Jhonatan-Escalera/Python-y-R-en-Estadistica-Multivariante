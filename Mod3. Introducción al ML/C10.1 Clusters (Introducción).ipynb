{
 "cells": [
  {
   "cell_type": "markdown",
   "metadata": {},
   "source": [
    "<img src=\"logo.png\">"
   ]
  },
  {
   "cell_type": "markdown",
   "metadata": {},
   "source": [
    "# Análisis por clusters (o conglomerados)\n",
    "\n",
    "El análisis de clúster o conglomerados tiene como objetivo agrupar elementos en grupos homogéneos en función de las similitudes o similaridades entre ellos. Normalmente se agrupan las observaciones, aunque puede también aplicarse para agrupar variables. Estos métodos se conocen también con el nombre de métodos de clasificación automática o no supervisada, o de reconocimiento de patrones sin supervisión.\n",
    "\n",
    "En general existen tres métodos:\n",
    "\n",
    "* Partición de los datos:\n",
    "    * Algoritmo k-medias\n",
    "* Métodos jerárquicos:\n",
    "    * Métodos aglomerativos\n",
    "    * Métodos divisivos\n",
    "* Clúster basado en modelos"
   ]
  },
  {
   "cell_type": "markdown",
   "metadata": {},
   "source": [
    "El análisis de conglomerados estudia tres tipos de problemas:\n",
    "\n",
    "**Partición de los datos:** Disponemos de datos que sospechamos son heterogéneos y se desea dividirlos en un número de grupos prefijado, de manera que:\n",
    "\n",
    "1. cada elemento pertenezca a uno y solo uno de los grupos.\n",
    "2. todo elemento quede clasificado.\n",
    "3. cada grupo sea internamente homogéneo.\n",
    "\n",
    "Por ejemplo: se dispone de una base de datos de compras de clientes y se desea hacer una tipología de estos clientes en función de sus pautas de consumo.\n",
    "\n",
    "Este método se basa fuertemente en la matriz de los datos.\n",
    "\n",
    "**Construcción de jerarquías:** Deseamos estructurar los elementos de un conjunto de forma jerárquica por su similitud.\n",
    "\n",
    "Por ejemplo: tenemos una encuesta de atributos de distintas profesiones y queremos ordenarlas por similitud. Una clasificación jerárquica implica que los datos se ordenan en niveles, de manera que los niveles superiores contienen a los inferiores. Este tipo de clasificación es muy frecuente en biología, al clasificar animales, plantas etc. Estrictamente, estos métodos no definen grupos, sino la estructura de asociación en cadena que pueda existir entre los elementos. Sin embargo, como veremos, la jerarquía construida permite obtener también una partición de los datos en grupos.\n",
    "\n",
    "Estos métodos se basa fuertemente en una matriz de distancias o similaridades.\n",
    "\n",
    "**Clúster basado en modelos:** En este caso, se parte de la hipótesis de que los datos han sido generados de una mixtura de distribuciones. Entonces lo que hay que estimar son los parámetros desconocidos de esta mixtura usando el método de máxima verosimilitud. Las observaciones son asignadas al grupo que tiene mayor probabilidad de haberlas generado.\n",
    "\n",
    "Estos métodos utilizan algoritmos de optimización para estimar los parámetros desconocidos."
   ]
  },
  {
   "cell_type": "markdown",
   "metadata": {},
   "source": [
    "## Siluetas\n",
    "\n",
    "Para saber si una solución de clústeres es apropiada o no, podemos usar las siluetas. Estas se definen de la siguiente manera:\n",
    "\n",
    "Sean $a(\\boldsymbol{x_i})$ y $b(\\boldsymbol{x_i})$ las distancias medias de la observación $\\boldsymbol{x_i}$ a todos los elementos de su grupo y a todos los elementos que no están en su grupo. Se define la *silueta* de $\\boldsymbol{x_i}$ como \n",
    "\n",
    "$$sil(\\boldsymbol{x_i})=\\frac{a(\\boldsymbol{x_i})-b(\\boldsymbol{x_i})}{\\max\\{a(\\boldsymbol{x_i}),b(\\boldsymbol{x_i})\\}}$$\n",
    "\n",
    "La silueta varía entre -1 y 1; un valor positivo significa que el elemento está bien identificado con su clúster, y un valor negativo, lo contrario.\n",
    "\n",
    "La media de las silhouettes nos da una medida global de cuán buena es la configuración (mientras más próxima a 1, mejor)."
   ]
  }
 ],
 "metadata": {
  "kernelspec": {
   "display_name": "R",
   "language": "R",
   "name": "ir"
  },
  "language_info": {
   "codemirror_mode": "r",
   "file_extension": ".r",
   "mimetype": "text/x-r-source",
   "name": "R",
   "pygments_lexer": "r",
   "version": "3.6.1"
  }
 },
 "nbformat": 4,
 "nbformat_minor": 4
}
